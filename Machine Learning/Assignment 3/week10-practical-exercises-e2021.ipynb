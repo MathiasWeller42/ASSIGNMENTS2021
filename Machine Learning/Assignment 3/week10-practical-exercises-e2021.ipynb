{
 "cells": [
  {
   "cell_type": "code",
   "execution_count": 46,
   "metadata": {
    "collapsed": true
   },
   "outputs": [],
   "source": [
    "import math  # Just ignore this :-)\n",
    "import numpy as np"
   ]
  },
  {
   "cell_type": "markdown",
   "metadata": {},
   "source": [
    "# ML E2021 - Week 10 - Practical Exercises"
   ]
  },
  {
   "cell_type": "markdown",
   "metadata": {
    "nbpresent": {
     "id": "22a39008-e542-438a-83f4-fd54f37017b8"
    }
   },
   "source": [
    "In the exercise below, you will see an example of how a hidden Markov model (HMM)\n",
    "can be represented, and you will implement and experiment with the computation of the joint probability and various decodings as explained in the lectures in week 9."
   ]
  },
  {
   "cell_type": "markdown",
   "metadata": {
    "nbpresent": {
     "id": "13722c25-cdc1-4ea4-98f0-a779946ce53c"
    }
   },
   "source": [
    "# 1 - Representing an HMM\n",
    "\n",
    "We can represent a HMM as a triple consisting of three matrices: a $K \\times 1$ matrix with the initial state probabilities, a $K \\times K$ matrix with the transition probabilities and a $K \\times |\\Sigma|$ matrix with the emission probabilities. In Python we can write the matrices like this:"
   ]
  },
  {
   "cell_type": "code",
   "execution_count": 47,
   "metadata": {
    "collapsed": true,
    "nbpresent": {
     "id": "b9f24259-216a-438c-86e7-aad8cb275bc6"
    }
   },
   "outputs": [],
   "source": [
    "init_probs_7_state = [0.00, 0.00, 0.00, 1.00, 0.00, 0.00, 0.00]\n",
    "\n",
    "trans_probs_7_state = [\n",
    "    [0.00, 0.00, 0.90, 0.10, 0.00, 0.00, 0.00],\n",
    "    [1.00, 0.00, 0.00, 0.00, 0.00, 0.00, 0.00],\n",
    "    [0.00, 1.00, 0.00, 0.00, 0.00, 0.00, 0.00],\n",
    "    [0.00, 0.00, 0.05, 0.90, 0.05, 0.00, 0.00],\n",
    "    [0.00, 0.00, 0.00, 0.00, 0.00, 1.00, 0.00],\n",
    "    [0.00, 0.00, 0.00, 0.00, 0.00, 0.00, 1.00],\n",
    "    [0.00, 0.00, 0.00, 0.10, 0.90, 0.00, 0.00],\n",
    "]\n",
    "\n",
    "emission_probs_7_state = [\n",
    "    #   A     C     G     T\n",
    "    [0.30, 0.25, 0.25, 0.20],\n",
    "    [0.20, 0.35, 0.15, 0.30],\n",
    "    [0.40, 0.15, 0.20, 0.25],\n",
    "    [0.25, 0.25, 0.25, 0.25],\n",
    "    [0.20, 0.40, 0.30, 0.10],\n",
    "    [0.30, 0.20, 0.30, 0.20],\n",
    "    [0.15, 0.30, 0.20, 0.35],\n",
    "]"
   ]
  },
  {
   "cell_type": "markdown",
   "metadata": {
    "nbpresent": {
     "id": "0fb33618-de36-44df-8462-14b7e58d3b4b"
    }
   },
   "source": [
    "How do we use these matrices? Remember that we are given some sequence of observations, e.g. like this:"
   ]
  },
  {
   "cell_type": "code",
   "execution_count": 48,
   "metadata": {
    "collapsed": true,
    "nbpresent": {
     "id": "ed50140f-2197-43fc-837a-e3799ffe5904"
    }
   },
   "outputs": [],
   "source": [
    "obs_example = 'GTTTCCCAGTGTATATCGAGGGATACTACGTGCATAGTAACATCGGCCAA'"
   ]
  },
  {
   "cell_type": "markdown",
   "metadata": {
    "nbpresent": {
     "id": "2bef7e67-d545-447f-9d0c-7b6078ee627b"
    }
   },
   "source": [
    "To make a lookup in our three matrices, it is convenient to translate each symbol in the string to an index."
   ]
  },
  {
   "cell_type": "code",
   "execution_count": 49,
   "metadata": {
    "collapsed": true,
    "nbpresent": {
     "id": "ed1f0acd-83cf-451a-ac94-957ebd8a0d87"
    }
   },
   "outputs": [],
   "source": [
    "def translate_observations_to_indices(obs):\n",
    "    mapping = {'a': 0, 'c': 1, 'g': 2, 't': 3}\n",
    "    return [mapping[symbol.lower()] for symbol in obs]"
   ]
  },
  {
   "cell_type": "markdown",
   "metadata": {
    "nbpresent": {
     "id": "6fcef106-fbc3-4f3d-ab54-5d89271eedf0"
    }
   },
   "source": [
    "Let's try to translate the example above using this function:"
   ]
  },
  {
   "cell_type": "code",
   "execution_count": 50,
   "metadata": {
    "collapsed": true,
    "nbpresent": {
     "id": "8604d821-64fb-49e5-8c98-a791c6d42831"
    }
   },
   "outputs": [],
   "source": [
    "obs_example_trans = translate_observations_to_indices(obs_example)"
   ]
  },
  {
   "cell_type": "code",
   "execution_count": 51,
   "metadata": {
    "nbpresent": {
     "id": "9a29e558-111a-47bf-a450-2f7a61613ad4"
    }
   },
   "outputs": [
    {
     "data": {
      "text/plain": [
       "[2,\n",
       " 3,\n",
       " 3,\n",
       " 3,\n",
       " 1,\n",
       " 1,\n",
       " 1,\n",
       " 0,\n",
       " 2,\n",
       " 3,\n",
       " 2,\n",
       " 3,\n",
       " 0,\n",
       " 3,\n",
       " 0,\n",
       " 3,\n",
       " 1,\n",
       " 2,\n",
       " 0,\n",
       " 2,\n",
       " 2,\n",
       " 2,\n",
       " 0,\n",
       " 3,\n",
       " 0,\n",
       " 1,\n",
       " 3,\n",
       " 0,\n",
       " 1,\n",
       " 2,\n",
       " 3,\n",
       " 2,\n",
       " 1,\n",
       " 0,\n",
       " 3,\n",
       " 0,\n",
       " 2,\n",
       " 3,\n",
       " 0,\n",
       " 0,\n",
       " 1,\n",
       " 0,\n",
       " 3,\n",
       " 1,\n",
       " 2,\n",
       " 2,\n",
       " 1,\n",
       " 1,\n",
       " 0,\n",
       " 0]"
      ]
     },
     "execution_count": 51,
     "metadata": {},
     "output_type": "execute_result"
    }
   ],
   "source": [
    "obs_example_trans"
   ]
  },
  {
   "cell_type": "markdown",
   "metadata": {},
   "source": [
    "Use the function below to translate the indices back to observations:"
   ]
  },
  {
   "cell_type": "code",
   "execution_count": 52,
   "metadata": {
    "collapsed": true
   },
   "outputs": [],
   "source": [
    "def translate_indices_to_observations(indices):\n",
    "    mapping = ['a', 'c', 'g', 't']\n",
    "    return ''.join(mapping[idx] for idx in indices)"
   ]
  },
  {
   "cell_type": "code",
   "execution_count": 53,
   "metadata": {},
   "outputs": [
    {
     "data": {
      "text/plain": [
       "'gtttcccagtgtatatcgagggatactacgtgcatagtaacatcggccaa'"
      ]
     },
     "execution_count": 53,
     "metadata": {},
     "output_type": "execute_result"
    }
   ],
   "source": [
    "translate_indices_to_observations(translate_observations_to_indices(obs_example))"
   ]
  },
  {
   "cell_type": "markdown",
   "metadata": {},
   "source": [
    "Now each symbol has been transformed (predictably) into a number which makes it much easier to make lookups in our matrices. We'll do the same thing for a list of states (a path):"
   ]
  },
  {
   "cell_type": "code",
   "execution_count": 54,
   "metadata": {
    "collapsed": true
   },
   "outputs": [],
   "source": [
    "def translate_path_to_indices(path):\n",
    "    return list(map(lambda x: int(x), path))\n",
    "\n",
    "def translate_indices_to_path(indices):\n",
    "    return ''.join([str(i) for i in indices])"
   ]
  },
  {
   "cell_type": "markdown",
   "metadata": {},
   "source": [
    "Given a path through an HMM, we can now translate it to a list of indices:"
   ]
  },
  {
   "cell_type": "code",
   "execution_count": 55,
   "metadata": {},
   "outputs": [
    {
     "data": {
      "text/plain": [
       "[3,\n",
       " 3,\n",
       " 3,\n",
       " 3,\n",
       " 3,\n",
       " 3,\n",
       " 3,\n",
       " 3,\n",
       " 3,\n",
       " 3,\n",
       " 3,\n",
       " 3,\n",
       " 2,\n",
       " 1,\n",
       " 0,\n",
       " 2,\n",
       " 1,\n",
       " 0,\n",
       " 2,\n",
       " 1,\n",
       " 0,\n",
       " 2,\n",
       " 1,\n",
       " 0,\n",
       " 2,\n",
       " 1,\n",
       " 0,\n",
       " 2,\n",
       " 1,\n",
       " 0,\n",
       " 2,\n",
       " 1,\n",
       " 0,\n",
       " 2,\n",
       " 1,\n",
       " 0,\n",
       " 2,\n",
       " 1,\n",
       " 0,\n",
       " 2,\n",
       " 1,\n",
       " 0,\n",
       " 2,\n",
       " 1,\n",
       " 0,\n",
       " 2,\n",
       " 1,\n",
       " 0,\n",
       " 2,\n",
       " 1]"
      ]
     },
     "execution_count": 55,
     "metadata": {},
     "output_type": "execute_result"
    }
   ],
   "source": [
    "path_example = '33333333333321021021021021021021021021021021021021'\n",
    "\n",
    "translate_path_to_indices(path_example)"
   ]
  },
  {
   "cell_type": "markdown",
   "metadata": {
    "nbpresent": {
     "id": "cf3f4b33-715a-443a-a933-17f29d3ffa75"
    }
   },
   "source": [
    "Finally, we can collect the three matrices in a class to make it easier to work with our HMM."
   ]
  },
  {
   "cell_type": "code",
   "execution_count": 56,
   "metadata": {
    "nbpresent": {
     "id": "43336c35-2a6f-46e9-b86e-0367377dca39"
    }
   },
   "outputs": [
    {
     "data": {
      "text/plain": [
       "[[0.0, 0.0, 0.9, 0.1, 0.0, 0.0, 0.0],\n",
       " [1.0, 0.0, 0.0, 0.0, 0.0, 0.0, 0.0],\n",
       " [0.0, 1.0, 0.0, 0.0, 0.0, 0.0, 0.0],\n",
       " [0.0, 0.0, 0.05, 0.9, 0.05, 0.0, 0.0],\n",
       " [0.0, 0.0, 0.0, 0.0, 0.0, 1.0, 0.0],\n",
       " [0.0, 0.0, 0.0, 0.0, 0.0, 0.0, 1.0],\n",
       " [0.0, 0.0, 0.0, 0.1, 0.9, 0.0, 0.0]]"
      ]
     },
     "execution_count": 56,
     "metadata": {},
     "output_type": "execute_result"
    }
   ],
   "source": [
    "class hmm:\n",
    "    def __init__(self, init_probs, trans_probs, emission_probs):\n",
    "        self.init_probs = init_probs\n",
    "        self.trans_probs = trans_probs\n",
    "        self.emission_probs = emission_probs\n",
    "\n",
    "# Collect the matrices in a class.\n",
    "hmm_7_state = hmm(init_probs_7_state, trans_probs_7_state, emission_probs_7_state)\n",
    "\n",
    "# We can now reach the different matrices by their names. E.g.:\n",
    "hmm_7_state.trans_probs"
   ]
  },
  {
   "cell_type": "markdown",
   "metadata": {},
   "source": [
    "For testing, here's another model (which we will refer to as the 3-state model)."
   ]
  },
  {
   "cell_type": "code",
   "execution_count": 57,
   "metadata": {
    "collapsed": true
   },
   "outputs": [],
   "source": [
    "init_probs_3_state = [0.10, 0.80, 0.10]\n",
    "\n",
    "trans_probs_3_state = [\n",
    "    [0.90, 0.10, 0.00],\n",
    "    [0.05, 0.90, 0.05],\n",
    "    [0.00, 0.10, 0.90],\n",
    "]\n",
    "\n",
    "emission_probs_3_state = [\n",
    "    #   A     C     G     T\n",
    "    [0.40, 0.15, 0.20, 0.25],\n",
    "    [0.25, 0.25, 0.25, 0.25],\n",
    "    [0.20, 0.40, 0.30, 0.10],\n",
    "]\n",
    "\n",
    "hmm_3_state = hmm(init_probs_3_state, trans_probs_3_state, emission_probs_3_state)"
   ]
  },
  {
   "cell_type": "markdown",
   "metadata": {
    "nbpresent": {
     "id": "69bf9e07-95ad-429f-b85b-dbb8c1b6c310"
    }
   },
   "source": [
    "# 2 - Validating an HMM (and handling floats)"
   ]
  },
  {
   "cell_type": "markdown",
   "metadata": {
    "nbpresent": {
     "id": "4c1bd08c-2c49-45e6-81e7-5bbbbd2f799c"
    }
   },
   "source": [
    "Before using the model we'll write a function to validate that the model is valid. That is, the matrices should have the right dimensions and the following things should be true:\n",
    "\n",
    "1. The initial probabilities must sum to 1.\n",
    "2. Each row in the matrix of transition probabilities must sum to 1.\n",
    "3. Each row in the matrix of emission probabilities must sum to 1.\n",
    "4. All numbers should be between 0 and 1, inclusive.\n",
    "\n",
    "Write a function `validate_hmm` that given a model returns True if the model is valid, and False otherwise:"
   ]
  },
  {
   "cell_type": "code",
   "execution_count": 58,
   "metadata": {
    "collapsed": true,
    "nbpresent": {
     "id": "2c6c3d32-db85-482b-970c-9bcacd9f5b32"
    }
   },
   "outputs": [],
   "source": [
    "def validate_hmm(model):\n",
    "    pi =np.array( model.init_probs)\n",
    "    A = np.array(model.trans_probs)\n",
    "    fi =np.array(model.emission_probs)\n",
    "    for i in range(A.shape[0]):\n",
    "        rowSum = 0\n",
    "        for j in range(A.shape[1]):\n",
    "            rowSum += A[i,j]\n",
    "        if not(np.allclose(rowSum, 1)):\n",
    "            return False\n",
    "    sum = 0\n",
    "    for i in range(pi.shape[0]):\n",
    "        sum += pi[i]\n",
    "    if not(np.allclose(sum, 1)):\n",
    "        print(\"Oh no\")\n",
    "    for i in range(fi.shape[0]):\n",
    "        rowSum = 0\n",
    "        for j in range(fi.shape[1]):\n",
    "            rowSum += fi[i,j]\n",
    "        if not(np.allclose(rowSum, 1)):\n",
    "            return False\n",
    "    return True"
   ]
  },
  {
   "cell_type": "markdown",
   "metadata": {
    "nbpresent": {
     "id": "05430599-405e-4ffa-add6-84288abe4364"
    }
   },
   "source": [
    "We can now use this function to check whether the example model is a valid model."
   ]
  },
  {
   "cell_type": "code",
   "execution_count": 59,
   "metadata": {
    "collapsed": true,
    "nbpresent": {
     "id": "1e3e74d8-7951-4362-af49-240b7d90532d"
    }
   },
   "outputs": [
    {
     "data": {
      "text/plain": [
       "True"
      ]
     },
     "execution_count": 59,
     "metadata": {},
     "output_type": "execute_result"
    }
   ],
   "source": [
    "validate_hmm(hmm_7_state)"
   ]
  },
  {
   "cell_type": "markdown",
   "metadata": {},
   "source": [
    "You might run into problems related to summing floating point numbers because summing floating point numbers does not (always) give the expected result as illustrated by the following examples. How do you suggest to deal with this?"
   ]
  },
  {
   "cell_type": "code",
   "execution_count": 60,
   "metadata": {},
   "outputs": [
    {
     "data": {
      "text/plain": [
       "0.9999999999999999"
      ]
     },
     "execution_count": 60,
     "metadata": {},
     "output_type": "execute_result"
    }
   ],
   "source": [
    "0.15 + 0.30 + 0.20 + 0.35"
   ]
  },
  {
   "cell_type": "markdown",
   "metadata": {},
   "source": [
    "The order of the terms matter."
   ]
  },
  {
   "cell_type": "code",
   "execution_count": 61,
   "metadata": {},
   "outputs": [
    {
     "data": {
      "text/plain": [
       "1.0"
      ]
     },
     "execution_count": 61,
     "metadata": {},
     "output_type": "execute_result"
    }
   ],
   "source": [
    "0.20 + 0.35 + 0.15 + 0.30"
   ]
  },
  {
   "cell_type": "markdown",
   "metadata": {},
   "source": [
    "Because it changes the prefix sums"
   ]
  },
  {
   "cell_type": "code",
   "execution_count": 62,
   "metadata": {},
   "outputs": [
    {
     "data": {
      "text/plain": [
       "0.44999999999999996"
      ]
     },
     "execution_count": 62,
     "metadata": {},
     "output_type": "execute_result"
    }
   ],
   "source": [
    "0.15 + 0.30"
   ]
  },
  {
   "cell_type": "code",
   "execution_count": 63,
   "metadata": {},
   "outputs": [
    {
     "data": {
      "text/plain": [
       "0.7000000000000001"
      ]
     },
     "execution_count": 63,
     "metadata": {},
     "output_type": "execute_result"
    }
   ],
   "source": [
    "0.20 + 0.35 + 0.15"
   ]
  },
  {
   "cell_type": "code",
   "execution_count": 64,
   "metadata": {},
   "outputs": [
    {
     "data": {
      "text/plain": [
       "0.44999999999999996"
      ]
     },
     "execution_count": 64,
     "metadata": {},
     "output_type": "execute_result"
    }
   ],
   "source": [
    "0.15 + 0.30"
   ]
  },
  {
   "cell_type": "markdown",
   "metadata": {},
   "source": [
    "On should never compare floating point numbers. They represent only an 'approximation'. Read more about the 'problems' in 'What Every Computer Scientist Should Know About Floating-Point Arithmetic' at:\n",
    "\n",
    "http://docs.oracle.com/cd/E19957-01/806-3568/ncg_goldberg.html"
   ]
  },
  {
   "cell_type": "markdown",
   "metadata": {
    "nbpresent": {
     "id": "7b9b636c-c901-4ea8-a99d-190a396b2405"
    }
   },
   "source": [
    "# 3 - Computing the Joint Probability"
   ]
  },
  {
   "cell_type": "markdown",
   "metadata": {},
   "source": [
    "Recall that the joint probability $p({\\bf X}, {\\bf Z}) = p({\\bf x}_1, \\ldots, {\\bf x}_N, {\\bf z}_1, \\ldots, {\\bf z}_N)$ of a hidden Markov model (HMM) can be compute as\n",
    "\n",
    "$$\n",
    "p({\\bf x}_1, \\ldots, {\\bf x}_N, {\\bf z}_1, \\ldots, {\\bf z}_N) = p({\\bf z}_1) \n",
    "\\left[ \\prod_{n=2}^N p({\\bf z}_n \\mid {\\bf z}_{n-1}) \\right]\n",
    "\\prod_{n=1}^N p({\\bf x}_n \\mid {\\bf z}_n)\n",
    "$$"
   ]
  },
  {
   "cell_type": "markdown",
   "metadata": {},
   "source": [
    "## Implementing without log-transformation"
   ]
  },
  {
   "cell_type": "markdown",
   "metadata": {},
   "source": [
    "Write a function `joint_prob` given a model (e.g. in the representation above) and sequence of observables, ${\\bf X}$, and a sequence of hidden states, ${\\bf Z}$, computes the joint probability cf. the above formula."
   ]
  },
  {
   "cell_type": "code",
   "execution_count": 65,
   "metadata": {
    "collapsed": true,
    "nbpresent": {
     "id": "3769ed05-effc-42d7-ae3b-655ea2082dc3"
    }
   },
   "outputs": [],
   "source": [
    "def joint_prob(model, x, z):\n",
    "    observeList = translate_observations_to_indices(x)\n",
    "    pathList = translate_path_to_indices(z)\n",
    "    pi = model.init_probs\n",
    "    A = model.trans_probs\n",
    "    fi = model.emission_probs\n",
    "    proba = 1\n",
    "    for i in range(len(observeList)):\n",
    "        if i == 0:\n",
    "            proba = proba* pi[pathList[i]]\n",
    "            proba = proba* fi[pathList[i]][observeList[i]]\n",
    "        else:\n",
    "            proba *= A[pathList[i-1]][pathList[i]]\n",
    "            proba *= fi[pathList[i]][observeList[i]]\n",
    "    return proba\n",
    "\n",
    "\n",
    "def joint_prob1(model, x, z):\n",
    "    x = translate_observations_to_indices(x)\n",
    "    z = translate_path_to_indices(z)\n",
    "    initial_probs = model.init_probs\n",
    "    trans_probs = model.trans_probs\n",
    "    emission_probs = model.emission_probs\n",
    "    initial_z = initial_probs[z[0]]\n",
    "    transprobs = [trans_probs[z[i-1]][z[i]] for i in range(1, len(z))]\n",
    "    emissionprobs = [emission_probs[z[i]][x[i]] for i in range(len(z))]\n",
    "    return initial_z * math.prod(transprobs) * math.prod(emissionprobs)     \n",
    "        "
   ]
  },
  {
   "cell_type": "markdown",
   "metadata": {
    "nbpresent": {
     "id": "bf292319-b283-4947-ba29-8db3efea4541"
    }
   },
   "source": [
    "Now compute the joint probability of the ${\\bf X}$ (`x_short`) and ${\\bf Z}$ (`z_short`) below using the 7-state (`hmm_7_state`) model introduced above. (*Remember to translate them first using the appropriate functions introduces above!*)"
   ]
  },
  {
   "cell_type": "code",
   "execution_count": 66,
   "metadata": {
    "collapsed": true,
    "nbpresent": {
     "id": "51699e6f-c98d-4552-8d21-5e37153bab84"
    }
   },
   "outputs": [
    {
     "name": "stdout",
     "output_type": "stream",
     "text": [
      "1.9114255184318858e-31\n",
      "1.9114255184318878e-31\n"
     ]
    }
   ],
   "source": [
    "x_short = 'GTTTCCCAGTGTATATCGAGGGATACTACGTGCATAGTAACATCGGCCAA'\n",
    "z_short = '33333333333321021021021021021021021021021021021021'\n",
    "\n",
    "# Your code here ...\n",
    "print(joint_prob(hmm_7_state, x_short, z_short))\n",
    "print(joint_prob1(hmm_7_state, x_short, z_short))"
   ]
  },
  {
   "cell_type": "markdown",
   "metadata": {
    "nbpresent": {
     "id": "62cc8755-8cf4-4b52-9e47-73395c18e741"
    }
   },
   "source": [
    "## Implementing with log-transformation (i.e. in \"log-space\")"
   ]
  },
  {
   "cell_type": "markdown",
   "metadata": {
    "nbpresent": {
     "id": "65813762-66da-4d50-8290-197eb23d5c90"
    }
   },
   "source": [
    "Now implement the joint probability function using log-transformation as explained in the lecture. We've given you a log-function that handles $\\log(0)$."
   ]
  },
  {
   "cell_type": "code",
   "execution_count": 67,
   "metadata": {
    "collapsed": true,
    "nbpresent": {
     "id": "c4e0a0e0-1fec-462d-89ad-3797ba7d24f3"
    }
   },
   "outputs": [],
   "source": [
    "def log(x):\n",
    "    if x == 0:\n",
    "        return float('-inf')\n",
    "    return math.log(x)\n",
    "\n",
    "\n",
    "def joint_prob_log(model, x, z):\n",
    "\n",
    "    model.init_probs = np.vectorize(log)(model.init_probs)\n",
    "    A = model.trans_probs\n",
    "    fi = model.emission_probs\n",
    "    vfunc = np.vectorize(log)\n",
    "    newPi = vfunc(fi)\n",
    "    print(newPi)\n",
    "\n",
    "    return model"
   ]
  },
  {
   "cell_type": "markdown",
   "metadata": {
    "nbpresent": {
     "id": "d47a1d9b-de76-41cc-88de-694965dd1ce7"
    }
   },
   "source": [
    "Confirm that the log-transformed function is correct by comparing the output of `joint_prob_log` to the output of `joint_prob`."
   ]
  },
  {
   "cell_type": "code",
   "execution_count": 68,
   "metadata": {
    "collapsed": true
   },
   "outputs": [],
   "source": [
    "# Your code here ...\n",
    "x_short = 'GTTTCCCAGTGTATATCGAGGGATACTACGTGCATAGTAACATCGGCCAA'\n",
    "z_short = '33333333333321021021021021021021021021021021021021'\n",
    "\n",
    "# Your code here ...\n",
    "#joint_prob(hmm_7_state, x_short, z_short)\n",
    "#joint_prob_log(hmm_7_state, x_short, z_short)"
   ]
  },
  {
   "cell_type": "markdown",
   "metadata": {
    "nbpresent": {
     "id": "06151990-65f6-401e-aa31-7adc39603c4b"
    }
   },
   "source": [
    "## Comparison of Implementations"
   ]
  },
  {
   "cell_type": "markdown",
   "metadata": {
    "nbpresent": {
     "id": "10ae159d-95f8-47aa-a42b-6bda8e25a0a2"
    }
   },
   "source": [
    "Now that you have two ways to compute the joint probability given a model, a sequence of observations, and a sequence of hidden states, try to make an experiment to figure out how long a sequence can be before it becomes essential to use the log-transformed version. For this experiment we'll use two longer sequences."
   ]
  },
  {
   "cell_type": "code",
   "execution_count": 69,
   "metadata": {
    "collapsed": true
   },
   "outputs": [],
   "source": [
    "x_long = 'TGAGTATCACTTAGGTCTATGTCTAGTCGTCTTTCGTAATGTTTGGTCTTGTCACCAGTTATCCTATGGCGCTCCGAGTCTGGTTCTCGAAATAAGCATCCCCGCCCAAGTCATGCACCCGTTTGTGTTCTTCGCCGACTTGAGCGACTTAATGAGGATGCCACTCGTCACCATCTTGAACATGCCACCAACGAGGTTGCCGCCGTCCATTATAACTACAACCTAGACAATTTTCGCTTTAGGTCCATTCACTAGGCCGAAATCCGCTGGAGTAAGCACAAAGCTCGTATAGGCAAAACCGACTCCATGAGTCTGCCTCCCGACCATTCCCATCAAAATACGCTATCAATACTAAAAAAATGACGGTTCAGCCTCACCCGGATGCTCGAGACAGCACACGGACATGATAGCGAACGTGACCAGTGTAGTGGCCCAGGGGAACCGCCGCGCCATTTTGTTCATGGCCCCGCTGCCGAATATTTCGATCCCAGCTAGAGTAATGACCTGTAGCTTAAACCCACTTTTGGCCCAAACTAGAGCAACAATCGGAATGGCTGAAGTGAATGCCGGCATGCCCTCAGCTCTAAGCGCCTCGATCGCAGTAATGACCGTCTTAACATTAGCTCTCAACGCTATGCAGTGGCTTTGGTGTCGCTTACTACCAGTTCCGAACGTCTCGGGGGTCTTGATGCAGCGCACCACGATGCCAAGCCACGCTGAATCGGGCAGCCAGCAGGATCGTTACAGTCGAGCCCACGGCAATGCGAGCCGTCACGTTGCCGAATATGCACTGCGGGACTACGGACGCAGGGCCGCCAACCATCTGGTTGACGATAGCCAAACACGGTCCAGAGGTGCCCCATCTCGGTTATTTGGATCGTAATTTTTGTGAAGAACACTGCAAACGCAAGTGGCTTTCCAGACTTTACGACTATGTGCCATCATTTAAGGCTACGACCCGGCTTTTAAGACCCCCACCACTAAATAGAGGTACATCTGA'\n",
    "z_long = '3333321021021021021021021021021021021021021021021021021021021021021021033333333334564564564564564564564564564564564564564564564564564564564564564564564564564564564564564564564564564564564564564564564564564564563210210210210210210210210210210210210210210210210210210210210210210210210210210210210210210210210210210210210210210210210210210210321021021021021021021021033334564564564564564564564564564564564564564564564564564564564564564564564564564564564564564564564564564564564564564564564564564564564564564564564564564564564564564564564564564564564564564564564564564564564564564564564564564564564564564564564564564564564564564564564564564564564564564564564564564564564564564564564564564564564564564564564564564564564563333333456456456456456456456456456456456456456456456456456456456456456456456456456456456456456456456456456456456456456456332102102102102102102102102102102102102102102102102102102102102102102102102102102102102102102102103210210210210210210210210210210210210210210210210210210210210210'"
   ]
  },
  {
   "cell_type": "markdown",
   "metadata": {
    "nbpresent": {
     "id": "85880ba1-bc5b-455a-9335-000678ea9b0e"
    }
   },
   "source": [
    "Now compute the joint probability with `joint_prob` the 7-state (hmm_7_state) model introduced above, and see when it breaks (i.e. when it wrongfully becomes 0). Does this make sense? Here's some code to get you started."
   ]
  },
  {
   "cell_type": "code",
   "execution_count": 70,
   "metadata": {
    "collapsed": true,
    "nbpresent": {
     "id": "c558e928-6660-4b69-8db3-3341e8b19dba"
    }
   },
   "outputs": [],
   "source": [
    "for i in range(0, len(x_long), 100):\n",
    "    x = x_long[:i]\n",
    "    z = z_long[:i]\n",
    "    \n",
    "    x_trans = translate_observations_to_indices(x)\n",
    "    z_trans = translate_path_to_indices(z)\n",
    "    \n",
    "    # Make your experiment here..."
   ]
  },
  {
   "cell_type": "markdown",
   "metadata": {},
   "source": [
    "In the cell below you should state for which $i$ computing the joint probability (for the two models considered) using `joint_prob` wrongfully becomes 0."
   ]
  },
  {
   "cell_type": "markdown",
   "metadata": {},
   "source": [
    "**Your answer here:**\n",
    "\n",
    "For the 7-state model, `joint_prob` becomes 0 for **i = ?**."
   ]
  },
  {
   "cell_type": "markdown",
   "metadata": {
    "collapsed": true
   },
   "source": [
    "# 4 - Viterbi Decoding"
   ]
  },
  {
   "cell_type": "markdown",
   "metadata": {},
   "source": []
  },
  {
   "cell_type": "markdown",
   "metadata": {},
   "source": [
    "Below you will implement and experiment with the Viterbi algorithm. The implementation has been split into three parts:\n",
    "\n",
    "1. Fill out the $\\omega$ table using the recursion presented at the lecture.\n",
    "2. Find the state with the highest probability after observing the entire sequence of observations.\n",
    "3. Backtrack from the state found in the previous step to obtain the optimal path.\n",
    "\n",
    "We'll be working with the 7-state model (`hmm_7_state`) and the helper function for translating between observations, hidden states, and indicies, as introduced above."
   ]
  },
  {
   "cell_type": "markdown",
   "metadata": {},
   "source": [
    "Additionally, you're given the function below that constructs a table of a specific size filled with zeros."
   ]
  },
  {
   "cell_type": "code",
   "execution_count": 71,
   "metadata": {
    "collapsed": true
   },
   "outputs": [],
   "source": [
    "def make_table(m, n):\n",
    "    \"\"\"Make a table with `m` rows and `n` columns filled with zeros.\"\"\"\n",
    "    return [[0] * n for _ in range(m)]"
   ]
  },
  {
   "cell_type": "markdown",
   "metadata": {},
   "source": [
    "You'll be testing your code with the same two sequences as above, i.e:"
   ]
  },
  {
   "cell_type": "code",
   "execution_count": 72,
   "metadata": {
    "collapsed": true
   },
   "outputs": [],
   "source": [
    "x_short = 'GTTTCCCAGTGTATATCGAGGGATACTACGTGCATAGTAACATCGGCCAA'\n",
    "z_short = '33333333333321021021021021021021021021021021021021'"
   ]
  },
  {
   "cell_type": "code",
   "execution_count": 73,
   "metadata": {
    "collapsed": true
   },
   "outputs": [],
   "source": [
    "x_long = 'TGAGTATCACTTAGGTCTATGTCTAGTCGTCTTTCGTAATGTTTGGTCTTGTCACCAGTTATCCTATGGCGCTCCGAGTCTGGTTCTCGAAATAAGCATCCCCGCCCAAGTCATGCACCCGTTTGTGTTCTTCGCCGACTTGAGCGACTTAATGAGGATGCCACTCGTCACCATCTTGAACATGCCACCAACGAGGTTGCCGCCGTCCATTATAACTACAACCTAGACAATTTTCGCTTTAGGTCCATTCACTAGGCCGAAATCCGCTGGAGTAAGCACAAAGCTCGTATAGGCAAAACCGACTCCATGAGTCTGCCTCCCGACCATTCCCATCAAAATACGCTATCAATACTAAAAAAATGACGGTTCAGCCTCACCCGGATGCTCGAGACAGCACACGGACATGATAGCGAACGTGACCAGTGTAGTGGCCCAGGGGAACCGCCGCGCCATTTTGTTCATGGCCCCGCTGCCGAATATTTCGATCCCAGCTAGAGTAATGACCTGTAGCTTAAACCCACTTTTGGCCCAAACTAGAGCAACAATCGGAATGGCTGAAGTGAATGCCGGCATGCCCTCAGCTCTAAGCGCCTCGATCGCAGTAATGACCGTCTTAACATTAGCTCTCAACGCTATGCAGTGGCTTTGGTGTCGCTTACTACCAGTTCCGAACGTCTCGGGGGTCTTGATGCAGCGCACCACGATGCCAAGCCACGCTGAATCGGGCAGCCAGCAGGATCGTTACAGTCGAGCCCACGGCAATGCGAGCCGTCACGTTGCCGAATATGCACTGCGGGACTACGGACGCAGGGCCGCCAACCATCTGGTTGACGATAGCCAAACACGGTCCAGAGGTGCCCCATCTCGGTTATTTGGATCGTAATTTTTGTGAAGAACACTGCAAACGCAAGTGGCTTTCCAGACTTTACGACTATGTGCCATCATTTAAGGCTACGACCCGGCTTTTAAGACCCCCACCACTAAATAGAGGTACATCTGA'\n",
    "z_long = '3333321021021021021021021021021021021021021021021021021021021021021021033333333334564564564564564564564564564564564564564564564564564564564564564564564564564564564564564564564564564564564564564564564564564564563210210210210210210210210210210210210210210210210210210210210210210210210210210210210210210210210210210210210210210210210210210210321021021021021021021021033334564564564564564564564564564564564564564564564564564564564564564564564564564564564564564564564564564564564564564564564564564564564564564564564564564564564564564564564564564564564564564564564564564564564564564564564564564564564564564564564564564564564564564564564564564564564564564564564564564564564564564564564564564564564564564564564564564564564563333333456456456456456456456456456456456456456456456456456456456456456456456456456456456456456456456456456456456456456456332102102102102102102102102102102102102102102102102102102102102102102102102102102102102102102102103210210210210210210210210210210210210210210210210210210210210210'"
   ]
  },
  {
   "cell_type": "markdown",
   "metadata": {},
   "source": [
    "Remember to translate these sequences to indices before using them with your algorithms."
   ]
  },
  {
   "cell_type": "markdown",
   "metadata": {},
   "source": [
    "## Implementing without log-transformation"
   ]
  },
  {
   "cell_type": "markdown",
   "metadata": {},
   "source": [
    "First, we will implement the algorithm without log-transformation. This will cause issues with numerical stability (like above when computing the joint probability), so we will use the log-transformation trick to fix this in the next section."
   ]
  },
  {
   "cell_type": "markdown",
   "metadata": {},
   "source": [
    "### Computation of the $\\omega$ table"
   ]
  },
  {
   "cell_type": "code",
   "execution_count": 74,
   "metadata": {
    "collapsed": true
   },
   "outputs": [],
   "source": [
    "def compute_w(model, X):\n",
    "    x = translate_observations_to_indices(X)\n",
    "    K = len(model.init_probs)\n",
    "    n = len(x)\n",
    "    \n",
    "    \n",
    "    w = np.zeros((K, n))\n",
    "    \n",
    "    #print(\"x: \", x)\n",
    "    # Base case: fill out w[i][0] for i = 0..k-1\n",
    "    # ...\n",
    "    for i in range(K): \n",
    "        w[i,0] = model.init_probs[i] * model.emission_probs[i][x[0]] #Prob of state z_i * prob x[0] given z_i\n",
    "    #print(\"w after base case: \", w[:,0])\n",
    "    # Inductive case: fill out w[i][j] for i = 0..k, j = 0..n-1\n",
    "    # ...\n",
    "    for col in range(1,n): #For each column in omega\n",
    "        for row in range(K): #For each row (each z-state) in omega\n",
    "            max_so_far = 0\n",
    "            #max = np.max(w[:][col-1] * model.trans_probs[:][row])\n",
    "            for z_i in range(K): #For each row in previous column\n",
    "                prev_prob = w[z_i,col-1] * model.trans_probs[z_i][row]\n",
    "                if prev_prob > max_so_far: \n",
    "                    max_so_far = prev_prob\n",
    "            w[row,col] = model.emission_probs[row][x[col]] * max_so_far\n",
    "    return w #TADAAA XD"
   ]
  },
  {
   "cell_type": "markdown",
   "metadata": {},
   "source": [
    "### Finding the joint probability of an optimal path"
   ]
  },
  {
   "cell_type": "markdown",
   "metadata": {},
   "source": [
    "Now, write a function that given the $\\omega$-table, returns the probability of an optimal path through the HMM. As explained in the lecture, this corresponds to finding the highest probability in the last column of the table."
   ]
  },
  {
   "cell_type": "code",
   "execution_count": 75,
   "metadata": {
    "collapsed": true
   },
   "outputs": [],
   "source": [
    "def opt_path_prob(w):\n",
    "    n = w.shape[1]\n",
    "    probForLastZ = np.max(w[:, n-1]) #... I gave you my heart, but the very next day you gave it awayyyyyy.... Thiiiiiis year...\n",
    "    return probForLastZ\n",
    "    "
   ]
  },
  {
   "cell_type": "markdown",
   "metadata": {},
   "source": [
    "Now test your implementation in the box below:"
   ]
  },
  {
   "cell_type": "code",
   "execution_count": 76,
   "metadata": {
    "collapsed": true
   },
   "outputs": [
    {
     "data": {
      "text/plain": [
       "array([[0.00000000e+00, 0.00000000e+00, 0.00000000e+00, 2.50000000e-01,\n",
       "        0.00000000e+00, 0.00000000e+00, 0.00000000e+00],\n",
       "       [0.00000000e+00, 0.00000000e+00, 3.12500000e-03, 5.62500000e-02,\n",
       "        1.25000000e-03, 0.00000000e+00, 0.00000000e+00],\n",
       "       [0.00000000e+00, 9.37500000e-04, 7.03125000e-04, 1.26562500e-02,\n",
       "        2.81250000e-04, 2.50000000e-04, 0.00000000e+00],\n",
       "       [1.87500000e-04, 2.10937500e-04, 1.58203125e-04, 2.84765625e-03,\n",
       "        6.32812500e-05, 5.62500000e-05, 8.75000000e-05],\n",
       "       [5.27343750e-05, 5.53710938e-05, 2.53125000e-05, 6.40722656e-04,\n",
       "        5.69531250e-05, 1.26562500e-05, 1.68750000e-05],\n",
       "       [1.38427734e-05, 8.85937500e-06, 7.11914063e-06, 1.44162598e-04,\n",
       "        1.28144531e-05, 1.13906250e-05, 3.79687500e-06],\n",
       "       [2.21484375e-06, 2.49169922e-06, 1.86877441e-06, 3.24365845e-05,\n",
       "        2.88325195e-06, 2.56289063e-06, 3.41718750e-06],\n",
       "       [7.47509766e-07, 3.73754883e-07, 7.97343750e-07, 7.29823151e-06,\n",
       "        6.15093750e-07, 8.64975586e-07, 3.84433594e-07],\n",
       "       [9.34387207e-08, 1.19601563e-07, 1.34551758e-07, 1.64210209e-06,\n",
       "        1.09473473e-07, 1.84528125e-07, 1.72995117e-07],\n",
       "       [2.39203125e-08, 4.03655273e-08, 2.10237122e-08, 3.69472970e-07,\n",
       "        1.55695605e-08, 2.18946945e-08, 6.45848438e-08],\n",
       "       [1.00913818e-08, 3.15355682e-09, 4.30565625e-09, 8.31314183e-08,\n",
       "        1.74379078e-08, 4.67086816e-09, 4.37893890e-09],\n",
       "       [6.30711365e-10, 1.29169688e-09, 2.27056091e-09, 1.87045691e-08,\n",
       "        4.15657091e-10, 3.48758156e-09, 1.63480386e-09],\n",
       "       [3.87509063e-10, 4.54112183e-10, 3.74091382e-10, 4.20852805e-09,\n",
       "        2.94264694e-10, 1.24697127e-10, 5.23137234e-10],\n",
       "       [9.08224365e-11, 1.12227415e-10, 8.71895391e-11, 9.46918811e-10,\n",
       "        4.70823511e-11, 5.88529389e-11, 4.36439946e-11],\n",
       "       [3.36682244e-11, 1.74379078e-11, 3.26960771e-11, 2.13056732e-10,\n",
       "        9.46918811e-12, 1.41247053e-11, 8.82794083e-12],\n",
       "       [3.48758156e-12, 9.80882314e-12, 7.57535049e-12, 4.79377648e-11,\n",
       "        1.06528366e-12, 1.89383762e-12, 4.94364686e-12],\n",
       "       [2.45220579e-12, 2.65137267e-12, 4.70823511e-13, 1.07859971e-11,\n",
       "        1.77971287e-12, 2.13056732e-13, 5.68151287e-13],\n",
       "       [6.62843168e-13, 7.06235266e-14, 4.41397042e-13, 2.42684934e-12,\n",
       "        1.61789956e-13, 5.33913861e-13, 4.26113465e-14],\n",
       "       [2.11870580e-14, 8.82794083e-14, 2.38623540e-13, 5.46041102e-13,\n",
       "        2.42684934e-14, 4.85369869e-14, 8.00870792e-14],\n",
       "       [2.20698521e-14, 3.57935311e-14, 5.46041102e-15, 1.22859248e-13,\n",
       "        2.16235114e-14, 7.28054803e-15, 9.70739737e-15],\n",
       "       [8.94838276e-15, 8.19061653e-16, 3.97257337e-15, 2.76433308e-14,\n",
       "        2.62099729e-15, 6.48705342e-15, 1.45610961e-15],\n",
       "       [2.04765413e-16, 5.95886006e-16, 1.61070890e-15, 6.21974943e-15,\n",
       "        4.14649962e-16, 7.86299187e-16, 1.29741068e-15],\n",
       "       [1.78765802e-16, 3.22141780e-16, 1.24394989e-16, 1.39944362e-15,\n",
       "        2.33533923e-16, 1.24394989e-16, 1.17944878e-16],\n",
       "       [6.44283559e-17, 3.73184966e-17, 4.02223054e-17, 3.14874815e-16,\n",
       "        1.06150390e-17, 4.67067846e-17, 4.35382460e-17],\n",
       "       [1.11955490e-17, 8.04446108e-18, 2.31942081e-17, 7.08468334e-17,\n",
       "        7.83688428e-18, 3.18451171e-18, 7.00601769e-18],\n",
       "       [2.01111527e-18, 8.11797284e-18, 1.51139911e-18, 1.59405375e-17,\n",
       "        2.52216637e-18, 1.56737686e-18, 9.55353513e-19],\n",
       "       [1.62359457e-18, 4.53419733e-19, 4.52500936e-19, 3.58662094e-18,\n",
       "        8.59818161e-20, 5.04433274e-19, 5.48581900e-19],\n",
       "       [1.36025920e-19, 9.05001872e-20, 5.84494045e-19, 8.06989711e-19,\n",
       "        9.87447420e-20, 2.57945448e-20, 7.56649910e-20],\n",
       "       [2.26250468e-20, 2.04572916e-19, 1.83634992e-20, 1.81572685e-19,\n",
       "        2.72393968e-20, 1.97489484e-20, 7.73836345e-21],\n",
       "       [5.11432289e-20, 2.75452488e-21, 4.07250842e-21, 4.08538541e-20,\n",
       "        2.72359028e-21, 8.17181903e-21, 3.94978968e-21],\n",
       "       [5.50904976e-22, 1.22175253e-21, 1.15072265e-20, 9.19211718e-21,\n",
       "        3.55481071e-22, 5.44718055e-22, 2.86013666e-21],\n",
       "       [3.05438132e-22, 1.72608398e-21, 9.91628957e-23, 2.06822637e-21,\n",
       "        7.72236899e-22, 1.06644321e-22, 1.08943611e-22],\n",
       "       [4.31520994e-22, 3.47070135e-23, 4.12341478e-23, 4.65350932e-22,\n",
       "        4.13645273e-23, 1.54447380e-22, 3.19932964e-23],\n",
       "       [1.04121040e-23, 8.24682956e-24, 1.55347558e-22, 1.04703960e-22,\n",
       "        5.75879335e-24, 1.24093582e-23, 2.31671070e-23],\n",
       "       [1.64936591e-24, 4.66042673e-23, 2.34272341e-24, 2.35583909e-23,\n",
       "        2.08503963e-24, 1.15175867e-24, 4.34327537e-24],\n",
       "       [1.39812802e-23, 4.68544682e-25, 5.93771728e-25, 5.30063796e-24,\n",
       "        7.81789566e-25, 6.25511888e-25, 1.72763801e-25],\n",
       "       [1.17136171e-25, 8.90657592e-26, 2.51663044e-24, 1.19264354e-24,\n",
       "        7.95095694e-26, 2.34536870e-25, 1.25102378e-25],\n",
       "       [1.78131518e-26, 7.54989131e-25, 2.63556384e-26, 2.68344797e-25,\n",
       "        1.12592140e-26, 1.59019139e-26, 8.20879044e-26],\n",
       "       [2.26496739e-25, 5.27112768e-27, 6.41273466e-27, 6.03775793e-26,\n",
       "        1.47758228e-26, 3.37776419e-27, 2.38528708e-27],\n",
       "       [1.58133830e-27, 1.28254693e-27, 8.15388262e-26, 1.35849553e-26,\n",
       "        6.03775793e-28, 4.43274684e-27, 5.06664629e-28],\n",
       "       [3.20636733e-28, 2.85385892e-26, 2.13480671e-28, 3.05661495e-27,\n",
       "        2.71699107e-28, 1.20755159e-28, 1.32982405e-27],\n",
       "       [8.56157675e-27, 4.26961342e-29, 1.15429224e-28, 6.87738364e-28,\n",
       "        2.39368329e-28, 8.15097320e-29, 1.81132738e-29],\n",
       "       [8.53922683e-30, 3.46287672e-29, 1.92635477e-27, 2.14039419e-28,\n",
       "        3.43869182e-30, 4.78736659e-29, 2.85284062e-29],\n",
       "       [8.65719179e-30, 6.74224169e-28, 1.60529564e-30, 4.81588692e-29,\n",
       "        1.02702262e-29, 6.87738364e-31, 1.43620998e-29],\n",
       "       [1.68556042e-28, 2.40794346e-31, 1.55829452e-30, 1.08357456e-29,\n",
       "        3.87776694e-30, 3.08106787e-30, 1.37547673e-31],\n",
       "       [6.01985865e-32, 2.33744178e-31, 3.03400876e-29, 4.21390105e-30,\n",
       "        1.62536184e-31, 1.16333008e-30, 6.16213574e-31],\n",
       "       [5.84360446e-32, 1.06190307e-29, 3.16042579e-32, 9.48127737e-31,\n",
       "        2.21836887e-31, 3.25072367e-32, 3.48999024e-31],\n",
       "       [2.65475766e-30, 1.10614903e-32, 7.88886602e-33, 2.13328741e-31,\n",
       "        1.25639649e-31, 4.43673773e-32, 9.75217101e-33],\n",
       "       [3.31844708e-33, 1.57777320e-33, 9.55712759e-31, 6.63689416e-32,\n",
       "        2.13328741e-33, 3.76918946e-32, 6.65510660e-33],\n",
       "       [4.73331961e-34, 1.91142552e-31, 1.32737883e-33, 1.49330119e-32,\n",
       "        1.19791919e-33, 6.39986223e-34, 5.65378419e-33]])"
      ]
     },
     "execution_count": 76,
     "metadata": {},
     "output_type": "execute_result"
    }
   ],
   "source": [
    "w = compute_w(hmm_7_state, x_short)\n",
    "opt_path_prob(w)\n",
    "w.T"
   ]
  },
  {
   "cell_type": "markdown",
   "metadata": {},
   "source": [
    "Now do the same for `x_long`. What happens?"
   ]
  },
  {
   "cell_type": "code",
   "execution_count": 77,
   "metadata": {
    "collapsed": true
   },
   "outputs": [
    {
     "data": {
      "text/plain": [
       "0.0"
      ]
     },
     "execution_count": 77,
     "metadata": {},
     "output_type": "execute_result"
    }
   ],
   "source": [
    "w = compute_w(hmm_7_state, x_long)\n",
    "opt_path_prob(w)"
   ]
  },
  {
   "cell_type": "markdown",
   "metadata": {},
   "source": [
    "### Obtaining an optimal path through backtracking"
   ]
  },
  {
   "cell_type": "markdown",
   "metadata": {},
   "source": [
    "Implement backtracking to find a most probable path of hidden states given the $\\omega$-table."
   ]
  },
  {
   "cell_type": "code",
   "execution_count": 78,
   "metadata": {
    "collapsed": true
   },
   "outputs": [],
   "source": [
    "def backtrack(model, X, w):\n",
    "    pathList = []\n",
    "    n = w.shape[1]\n",
    "    x = translate_observations_to_indices(X)\n",
    "\n",
    "    #n-1\n",
    "    lastZ = np.argmax(w[:, n-1])\n",
    "    lastZProb = np.max(w[:, n-1])\n",
    "    pathList.insert(0,lastZ)\n",
    "    print(pathList)\n",
    "\n",
    "    #n-2 to 1\n",
    "    prev = lastZ\n",
    "    prevProb = lastZProb\n",
    "    for col in range(n-2, -1, -1):\n",
    "        columnw = w[:, col]\n",
    "        emissionProb = model.emission_probs[prev][x[col+1]]\n",
    "        for index, val in enumerate(columnw): \n",
    "            currentProb = emissionProb * (val * model.trans_probs[index][prev])\n",
    "            if prevProb == currentProb:\n",
    "                prevProb = val\n",
    "                prev = index\n",
    "                pathList.insert(0,prev)\n",
    "                break\n",
    "\n",
    "    realPath = translate_indices_to_path(pathList)        \n",
    "    return realPath\n"
   ]
  },
  {
   "cell_type": "code",
   "execution_count": 79,
   "metadata": {
    "collapsed": true
   },
   "outputs": [
    {
     "name": "stdout",
     "output_type": "stream",
     "text": [
      "[1]\n",
      "33333333333321021021021021021021021021021021021021\n",
      "33333333333321021021021021021021021021021021021021\n"
     ]
    }
   ],
   "source": [
    "w = compute_w(hmm_7_state, x_short)\n",
    "z_viterbi = backtrack(hmm_7_state, x_short, w)\n",
    "print(z_viterbi)\n",
    "print(z_short)"
   ]
  },
  {
   "cell_type": "markdown",
   "metadata": {},
   "source": [
    "Now do the same for `x_long`. What happens?"
   ]
  },
  {
   "cell_type": "markdown",
   "metadata": {},
   "source": [
    "## Implementing with log-transformation"
   ]
  },
  {
   "cell_type": "markdown",
   "metadata": {},
   "source": [
    "Now implement the Viterbi algorithm with log-transformation. The steps are the same as above."
   ]
  },
  {
   "cell_type": "markdown",
   "metadata": {},
   "source": [
    "### Computation of the (log-transformed) $\\omega$ table"
   ]
  },
  {
   "cell_type": "code",
   "execution_count": 80,
   "metadata": {
    "collapsed": true
   },
   "outputs": [],
   "source": [
    "def log(x):\n",
    "        if x == 0:\n",
    "            return float('-inf')\n",
    "        #print(\"dis x:\",x)\n",
    "        return np.log(x)\n",
    "\n",
    "def nlog(x):\n",
    "    return np.vectorize(log)(x)\n",
    "\n",
    "def compute_w_log(model, X): \n",
    "    init_probs = nlog(model.init_probs)\n",
    "    emission_probs = nlog(model.emission_probs)\n",
    "    trans_probs = nlog(model.trans_probs)\n",
    "\n",
    "    x = translate_observations_to_indices(X)\n",
    "    K = len(model.init_probs)\n",
    "    n = len(x)\n",
    "\n",
    "    w = np.zeros((K, n))\n",
    "    # BASE CASE: fill out w[i][0] for i = 0..k-1\n",
    "    for i in range(K): \n",
    "        w[i,0] = init_probs[i] + emission_probs[i][x[0]] #Prob of state z_i * prob x[0] given z_i\n",
    "\n",
    "    # Inductive case: fill out w[i][j] for i = 0..k, j = 0..n-1\n",
    "    for col in range(1,n): #For each column in omega\n",
    "        for row in range(K): #For each row (each z-state) in omega\n",
    "            max_so_far = float('-inf')\n",
    "            #max = np.max(w[:][col-1] * model.trans_probs[:][row])\n",
    "            for z_i in range(K): #For each row in previous column\n",
    "                prev_prob = w[z_i,col-1] + trans_probs[z_i][row]\n",
    "                if prev_prob > max_so_far: \n",
    "                    max_so_far = prev_prob\n",
    "            w[row,col] = emission_probs[row][x[col]] + max_so_far\n",
    "    return w "
   ]
  },
  {
   "cell_type": "markdown",
   "metadata": {},
   "source": [
    "### Finding the (log-transformed) joint probability of an optimal path"
   ]
  },
  {
   "cell_type": "code",
   "execution_count": 81,
   "metadata": {
    "collapsed": true
   },
   "outputs": [],
   "source": [
    "def opt_path_prob_log(w):\n",
    "    n = w.shape[1]\n",
    "    probForLastZ = np.max(w[:, n-1]) #... I gave you my heart, but the very next day you gave it awayyyyyy.... Thiiiiiis year...\n",
    "    return probForLastZ"
   ]
  },
  {
   "cell_type": "code",
   "execution_count": 82,
   "metadata": {
    "collapsed": true
   },
   "outputs": [
    {
     "data": {
      "text/plain": [
       "-70.73228857440488"
      ]
     },
     "execution_count": 82,
     "metadata": {},
     "output_type": "execute_result"
    }
   ],
   "source": [
    "w = compute_w_log(hmm_7_state, x_short)\n",
    "opt_path_prob_log(w)"
   ]
  },
  {
   "cell_type": "markdown",
   "metadata": {},
   "source": [
    "Now do the same for `x_long`. What happens?"
   ]
  },
  {
   "cell_type": "code",
   "execution_count": 83,
   "metadata": {
    "collapsed": true
   },
   "outputs": [
    {
     "data": {
      "text/plain": [
       "-1406.7209253880144"
      ]
     },
     "execution_count": 83,
     "metadata": {},
     "output_type": "execute_result"
    }
   ],
   "source": [
    "# Your code here ...\n",
    "w = compute_w_log(hmm_7_state, x_long)\n",
    "opt_path_prob_log(w)"
   ]
  },
  {
   "cell_type": "markdown",
   "metadata": {},
   "source": [
    "### Obtaining an optimal path through backtracking"
   ]
  },
  {
   "cell_type": "code",
   "execution_count": 84,
   "metadata": {
    "collapsed": true
   },
   "outputs": [],
   "source": [
    "def backtrack_log(model, X, w):\n",
    "    #init_probs = nlog(model.init_probs)\n",
    "    emission_probs = nlog(model.emission_probs)\n",
    "    trans_probs = nlog(model.trans_probs)\n",
    "\n",
    "    pathList = []\n",
    "    n = w.shape[1]\n",
    "    x = translate_observations_to_indices(X)\n",
    "\n",
    "    #n-1\n",
    "    lastZ = np.argmax(w[:, n-1])\n",
    "    lastZProb = np.max(w[:, n-1])\n",
    "    pathList.insert(0,lastZ)\n",
    "    print(pathList)\n",
    "\n",
    "    #n-2 to 1\n",
    "    prev = lastZ\n",
    "    prevProb = lastZProb\n",
    "    for col in range(n-2, -1, -1):\n",
    "        columnw = w[:, col]\n",
    "        emissionProb = emission_probs[prev][x[col+1]]\n",
    "        for index, val in enumerate(columnw): \n",
    "            currentProb = emissionProb + (val + trans_probs[index][prev])\n",
    "            if prevProb == currentProb:\n",
    "                prevProb = val\n",
    "                prev = index\n",
    "                pathList.insert(0,prev)\n",
    "                break\n",
    "\n",
    "    realPath = translate_indices_to_path(pathList)        \n",
    "    return realPath"
   ]
  },
  {
   "cell_type": "code",
   "execution_count": 85,
   "metadata": {
    "collapsed": true
   },
   "outputs": [
    {
     "name": "stdout",
     "output_type": "stream",
     "text": [
      "[1]\n",
      "[1]\n"
     ]
    },
    {
     "data": {
      "text/plain": [
       "('33333333333321021021021021021021021021021021021021',\n",
       " '33333333333321021021021021021021021021021021021021')"
      ]
     },
     "execution_count": 85,
     "metadata": {},
     "output_type": "execute_result"
    }
   ],
   "source": [
    "w = compute_w_log(hmm_7_state, x_short)\n",
    "z_viterbi_log = backtrack_log(hmm_7_state, x_short, w)\n",
    "w = compute_w(hmm_7_state, x_short)\n",
    "z_viterbi = backtrack(hmm_7_state, x_short, w)\n",
    "\n",
    "z_viterbi_log, z_viterbi"
   ]
  },
  {
   "cell_type": "markdown",
   "metadata": {},
   "source": [
    "Now do the same for `x_long`. What happens?"
   ]
  },
  {
   "cell_type": "code",
   "execution_count": 86,
   "metadata": {
    "collapsed": true
   },
   "outputs": [],
   "source": [
    "# Your code here ..."
   ]
  },
  {
   "cell_type": "markdown",
   "metadata": {},
   "source": [
    "### Does it work?"
   ]
  },
  {
   "cell_type": "markdown",
   "metadata": {},
   "source": [
    "Think about how to verify that your implementations of Viterbi (i.e. `compute_w`, `opt_path_prob`, `backtrack`, and there log-transformed variants `compute_w_log`, `opt_path_prob_log`, `backtrack_log`) are correct.\n",
    "\n",
    "One thing that should hold is that the probability of a most likely path as computed by `opt_path_prob` (or `opt_path_prob_log`) for a given sequence of observables (e.g. `x_short` or `x_long`) should be equal to the joint probability of a corersponding most probable path as found by `backtrack` (or `backtrack_log`) and the given sequence of observables. Why?\n",
    "\n",
    "Make an experiment that validates that this is the case for your implementations of Viterbi and `x_short` and `x_long`."
   ]
  },
  {
   "cell_type": "code",
   "execution_count": 87,
   "metadata": {
    "collapsed": true
   },
   "outputs": [],
   "source": [
    "# Check that opt_path_prob is equal to joint_prob(hmm_7_state, x_short, z_viterbi)\n",
    "\n",
    "# Your code here ...\n",
    "\n",
    "# Check that opt_path_prob_log is equal to joint_prob_log(hmm_7_state, x_short, z_viterbi_log)\n",
    "\n",
    "# Your code here ...\n",
    "\n",
    "# Do the above checks for x_long ...\n",
    "\n",
    "# Your code here ..."
   ]
  },
  {
   "cell_type": "markdown",
   "metadata": {},
   "source": [
    "Do your implementations pass the above checks?"
   ]
  },
  {
   "cell_type": "markdown",
   "metadata": {},
   "source": [
    "### Does log-transformation matter?"
   ]
  },
  {
   "cell_type": "markdown",
   "metadata": {},
   "source": [
    "Make an experiment that investigates how long the input string can be before `backtrack` and `backtrack_log` start to disagree on a most likely path and its probability."
   ]
  },
  {
   "cell_type": "code",
   "execution_count": 88,
   "metadata": {
    "collapsed": true
   },
   "outputs": [],
   "source": [
    "# Your code here ..."
   ]
  },
  {
   "cell_type": "markdown",
   "metadata": {},
   "source": [
    "**Your answer here:**\n",
    "\n",
    "For the 7-state model, `backtrack` and `backtrack_log` start to disagree on a most likely path and its probability for **i = ?** ."
   ]
  },
  {
   "cell_type": "markdown",
   "metadata": {},
   "source": [
    "# 5 - Posterior Decoding"
   ]
  },
  {
   "cell_type": "markdown",
   "metadata": {},
   "source": [
    "If you have time, try to implement posterior decoding (with scaling, if possible) as explained in the lecture"
   ]
  },
  {
   "cell_type": "code",
   "execution_count": 89,
   "metadata": {
    "collapsed": true
   },
   "outputs": [],
   "source": [
    "def forward(model, x):\n",
    "    pass\n",
    "\n",
    "def backward(model, x):\n",
    "    pass\n",
    "\n",
    "def posterior_decoding(model, x):\n",
    "    pass"
   ]
  },
  {
   "cell_type": "markdown",
   "metadata": {},
   "source": [
    "Compare the Viterbi and posterior decodings for the `x_short` and `x_long` using the 7-state model (`hmm_7_state`)."
   ]
  },
  {
   "cell_type": "code",
   "execution_count": 90,
   "metadata": {
    "collapsed": true
   },
   "outputs": [
    {
     "data": {
      "text/plain": [
       "inf"
      ]
     },
     "execution_count": 90,
     "metadata": {},
     "output_type": "execute_result"
    }
   ],
   "source": [
    "# Your code here ...\n",
    "\n",
    "\n",
    "a = nlog([0,0])\n",
    "a[0]*a[1]"
   ]
  },
  {
   "cell_type": "code",
   "execution_count": null,
   "metadata": {},
   "outputs": [],
   "source": []
  }
 ],
 "metadata": {
  "anaconda-cloud": {},
  "kernelspec": {
   "display_name": "Python 3",
   "language": "python",
   "name": "python3"
  },
  "language_info": {
   "codemirror_mode": {
    "name": "ipython",
    "version": 3
   },
   "file_extension": ".py",
   "mimetype": "text/x-python",
   "name": "python",
   "nbconvert_exporter": "python",
   "pygments_lexer": "ipython3",
   "version": "3.8.5"
  }
 },
 "nbformat": 4,
 "nbformat_minor": 1
}
